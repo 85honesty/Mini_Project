{
 "cells": [
  {
   "cell_type": "code",
   "execution_count": null,
   "metadata": {},
   "outputs": [],
   "source": [
    "\n"
   ]
  },
  {
   "cell_type": "markdown",
   "metadata": {},
   "source": [
    "\n",
    "1. 데이터 선정 방향선정 2시회의\n",
    "- 전처리\n",
    "- 시각화\n",
    "- 오브젝트디텍션\n",
    "\n",
    "2. 참고자료\n",
    "- Ex 3. 카메라 스티커앱 만들기 첫걸음(face detection)\n",
    "\n",
    "- [AIHUB 참고 자료] 한국인 감정인식을 위한 복합 영상 https://aihub.or.kr/aidata/27716\n",
    "- [AIHUB 참고 자료] 한국인 안면 이미지 소개7 https://aihub.or.kr/aidata/73\n",
    "- [AIHUB 참고 자료] 음식 이미지 및 영양정보 텍스트 https://aihub.or.kr/aidata/13594\n",
    "\n",
    "3. 기간\n",
    "5월 3일(화)까지 Ex 3. 카메라 스티커앱 만들기 첫걸음(face detection)\n",
    "\n",
    "4월 29일(현시점) ~ 5월  10일(화) or 13일(금)\n",
    "\n",
    "4. 회의\n",
    "5월  3일(화) 오후 2시 (카메라 스티커앱 만들기 첫걸음)\n",
    "5월 10일(화) 오후 2시 (한국인 감정인식을 위한 복합 영상)"
   ]
  }
 ],
 "metadata": {
  "language_info": {
   "name": "python"
  },
  "orig_nbformat": 4
 },
 "nbformat": 4,
 "nbformat_minor": 2
}
